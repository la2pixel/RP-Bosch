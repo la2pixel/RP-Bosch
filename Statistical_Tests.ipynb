{
 "cells": [
  {
   "cell_type": "code",
   "execution_count": null,
   "metadata": {},
   "outputs": [],
   "source": [
    "import pandas as pd\n",
    "## Contains: Median, Max, Mean PD with Average Control Input values\n",
    "pst = pd.concat([s1_stats, s2_stats, s3_stats, s4_stats], ignore_index=True)\n",
    "pst\n",
    "\n",
    "import pandas as pd\n",
    "from scipy.stats import kruskal\n",
    "scenarios = [1, 2, 3, 4]\n",
    "filter_pup = pst[pst['Scenario'].isin(scenarios)].copy()  # Make a copy to avoid SettingWithCopyWarning\n",
    "filter_pup['pd_delt'] = filter_pup['Meandia_dur'] - filter_pup['Meandia_bef']\n",
    "\n",
    "# Kruskal-Wallis test_general\n",
    "kruskal_result = kruskal(*[group['pd_delt'] for name, group in filter_pup.groupby('Scenario')])\n",
    "\n",
    "# Print the Kruskal-Wallis test result\n",
    "print(\"KW H-value:\", kruskal_result.statistic)\n",
    "print(\"KW p-value:\", kruskal_result.pvalue)"
   ]
  },
  {
   "cell_type": "markdown",
   "metadata": {},
   "source": [
    "Safety vs. Non-Safety Critical Scenarios"
   ]
  },
  {
   "cell_type": "code",
   "execution_count": null,
   "metadata": {},
   "outputs": [],
   "source": [
    "from scipy.stats import mannwhitneyu\n",
    "\n",
    "# Define Safety Critical Scenarios and Non-Safety Critical Scenarios\n",
    "sc_std = [1, 4]\n",
    "nsc_std = [2, 3]\n",
    "\n",
    "pdelt_sc = filter_pup[filter_pup['Scenario'].isin(sc_std)]['pd_delt']\n",
    "pdelt_nsc = filter_pup[filter_pup['Scenario'].isin(nsc_std)]['pd_delt']\n",
    "\n",
    "mannwhitneyu_result = mannwhitneyu(pdelt_sc, pdelt_nsc)\n",
    "\n",
    "print(\"Mann-Whitney U statistic:\", mannwhitneyu_result.statistic)\n",
    "print(\"Mann-Whitney U p-value:\", mannwhitneyu_result.pvalue)\n",
    "\n",
    "import seaborn as sns\n",
    "sc_mean = pdelt_sc.mean()\n",
    "nsc_mean = pdelt_nsc.mean()\n",
    "\n",
    "# Plot KDE plots for safety critical and non-safety critical scenarios\n",
    "sns.kdeplot(pdelt_sc, shade=True, label='Safety Critical')\n",
    "sns.kdeplot(pdelt_nsc, shade=True, label='Non-Safety Critical')\n",
    "\n",
    "\n",
    "plt.axvline(x=sc_mean, color='blue', linestyle='--', label='Mean - Safety Critical')\n",
    "plt.axvline(x=nsc_mean, color='orange', linestyle='--', label='Mean - Non-Safety Critical')\n",
    "plt.legend()\n",
    "plt.title('Kernel Density Estimate of PD Change')\n",
    "plt.xlabel('Pupil Diameter Change')\n",
    "plt.ylabel('Density')\n",
    "plt.show()"
   ]
  },
  {
   "cell_type": "markdown",
   "metadata": {},
   "source": [
    "T1 vs T2 Interventions"
   ]
  },
  {
   "cell_type": "code",
   "execution_count": null,
   "metadata": {},
   "outputs": [],
   "source": [
    "from scipy.stats import mannwhitneyu\n",
    "\n",
    "t1_std = [1, 2]\n",
    "t2_std = [3, 4]\n",
    "\n",
    "pdelt_sc = filter_pup[filter_pup['Scenario'].isin(t1_std)]['pd_delt']\n",
    "pdelt_nsc = filter_pup[filter_pup['Scenario'].isin(t2_std)]['pd_delt']\n",
    "\n",
    "mannwhitneyu_result = mannwhitneyu(pdelt_sc, pdelt_nsc)\n",
    "\n",
    "print(\"Mann-Whitney U statistic:\", mannwhitneyu_result.statistic)\n",
    "print(\"Mann-Whitney U p-value:\", mannwhitneyu_result.pvalue)\n",
    "\n",
    "import seaborn as sns\n",
    "sc_mean = pdelt_sc.mean()\n",
    "nsc_mean = pdelt_nsc.mean()\n",
    "\n",
    "# Plot KDE plots for safety critical and non-safety critical scenarios\n",
    "sns.kdeplot(pdelt_sc, shade=True, label='Type 1')\n",
    "sns.kdeplot(pdelt_nsc, shade=True, label='Type 2')\n",
    "\n",
    "\n",
    "plt.axvline(x=sc_mean, color='blue', linestyle='--', label='Mean - Safety Critical')\n",
    "plt.axvline(x=nsc_mean, color='orange', linestyle='--', label='Mean - Non-Safety Critical')\n",
    "plt.legend()\n",
    "plt.title('Kernel Density Estimate of PD Change')\n",
    "plt.xlabel('Intervention Type')\n",
    "plt.ylabel('Density')\n",
    "plt.show()"
   ]
  },
  {
   "cell_type": "markdown",
   "metadata": {},
   "source": [
    "Automation Experience vs. Naive to Automation"
   ]
  },
  {
   "cell_type": "code",
   "execution_count": null,
   "metadata": {},
   "outputs": [],
   "source": [
    "import scipy.stats as stats\n",
    "naive = pst[pst['Participant'].isin([4, 6, 7, 8, 11, 12, 16, 22, 24])]['Meandia_bef']\n",
    "exp = pst[~pst['Participant'].isin([4, 6, 7, 8, 11, 12, 16, 22, 24])]['Meandia_bef']\n",
    "U_statistic, p_value = stats.mannwhitneyu(naive, exp, alternative='two-sided')\n",
    "p_value\n",
    "\n",
    "import seaborn as sns\n",
    "import matplotlib.pyplot as plt\n",
    "sns.kdeplot(naive, label='Naive to Auto', shade=True)\n",
    "sns.kdeplot(exp, label='Auto Exp', shade=True)\n",
    "\n",
    "plt.axvline(naive.mean(), color='blue', linestyle='dashed', linewidth=1)\n",
    "plt.axvline(exp.mean(), color='orange', linestyle='dashed', linewidth=1)\n",
    "\n",
    "plt.text(naive.mean(), 0.25, f'Mean: {naive.mean():.2f}', rotation=90, va='bottom', ha='right', color='blue')\n",
    "plt.text(exp.mean(), 0.25, f'Mean: {exp.mean():.2f}', rotation=90, va='bottom', ha='right', color='orange')\n",
    "\n",
    "plt.legend()\n",
    "plt.xlabel('Meandia_bef')\n",
    "plt.ylabel('Density')\n",
    "plt.title('Distribution of Meandia_bef for Naive and Experienced Groups')\n",
    "\n",
    "# Show plot\n",
    "plt.show()\n"
   ]
  },
  {
   "cell_type": "markdown",
   "metadata": {},
   "source": []
  }
 ],
 "metadata": {
  "kernelspec": {
   "display_name": "Python 3",
   "language": "python",
   "name": "python3"
  },
  "language_info": {
   "codemirror_mode": {
    "name": "ipython",
    "version": 3
   },
   "file_extension": ".py",
   "mimetype": "text/x-python",
   "name": "python",
   "nbconvert_exporter": "python",
   "pygments_lexer": "ipython3",
   "version": "3.10.8"
  }
 },
 "nbformat": 4,
 "nbformat_minor": 2
}
